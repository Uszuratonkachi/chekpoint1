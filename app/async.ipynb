{
 "cells": [
  {
   "cell_type": "code",
   "id": "initial_id",
   "metadata": {
    "collapsed": true,
    "ExecuteTime": {
     "end_time": "2024-12-10T11:36:34.255846Z",
     "start_time": "2024-12-10T11:36:34.252675Z"
    }
   },
   "source": [
    "import asyncio\n",
    "\n",
    "import _asyncio\n",
    "import time"
   ],
   "outputs": [],
   "execution_count": 9
  },
  {
   "metadata": {
    "ExecuteTime": {
     "end_time": "2024-12-10T11:39:50.032149Z",
     "start_time": "2024-12-10T11:39:50.027606Z"
    }
   },
   "cell_type": "code",
   "source": [
    "async def get_large_data():\n",
    "    print(\"START: large\")\n",
    "    await asyncio.sleep(3)\n",
    "    print(\"END: large\")\n",
    "\n",
    "async def get_small_data():\n",
    "    print(\"START: small\")\n",
    "    await asyncio.sleep(1)\n",
    "    print(\"END: small\")\n",
    "\n",
    "async def main1():\n",
    "    start = time.perf_counter()\n",
    "\n",
    "    await get_large_data()\n",
    "    await get_small_data()\n",
    "\n",
    "    end = time.perf_counter()\n",
    "    print(f\"TIME:  {end - start:.2f}\")\n",
    "\n",
    "async def main2():\n",
    "    start = time.perf_counter()\n",
    "\n",
    "    task1 = asyncio.create_task(get_large_data())\n",
    "    task2 = asyncio.create_task(get_small_data())\n",
    "    await task1\n",
    "    await task2\n",
    "\n",
    "    end = time.perf_counter()\n",
    "    print(f\"TIME:  {end - start:.2f}\")"
   ],
   "id": "1d352fc25dd8a251",
   "outputs": [],
   "execution_count": 12
  },
  {
   "metadata": {
    "ExecuteTime": {
     "end_time": "2024-12-10T11:36:45.201697Z",
     "start_time": "2024-12-10T11:36:41.177860Z"
    }
   },
   "cell_type": "code",
   "source": "await main1()",
   "id": "c175d504c5a3ced0",
   "outputs": [
    {
     "name": "stdout",
     "output_type": "stream",
     "text": [
      "START: large\n",
      "END: large\n",
      "START: small\n",
      "END: small\n",
      "TIME:  4.02\n"
     ]
    }
   ],
   "execution_count": 11
  },
  {
   "metadata": {
    "ExecuteTime": {
     "end_time": "2024-12-10T11:39:57.755954Z",
     "start_time": "2024-12-10T11:39:54.734210Z"
    }
   },
   "cell_type": "code",
   "source": "await main2()",
   "id": "64fbe9a9538d22d1",
   "outputs": [
    {
     "name": "stdout",
     "output_type": "stream",
     "text": [
      "START: large\n",
      "START: small\n",
      "END: small\n",
      "END: large\n",
      "TIME:  3.02\n"
     ]
    }
   ],
   "execution_count": 13
  }
 ],
 "metadata": {
  "kernelspec": {
   "display_name": "Python 3",
   "language": "python",
   "name": "python3"
  },
  "language_info": {
   "codemirror_mode": {
    "name": "ipython",
    "version": 2
   },
   "file_extension": ".py",
   "mimetype": "text/x-python",
   "name": "python",
   "nbconvert_exporter": "python",
   "pygments_lexer": "ipython2",
   "version": "2.7.6"
  }
 },
 "nbformat": 4,
 "nbformat_minor": 5
}
